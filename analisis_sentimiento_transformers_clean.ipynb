{
 "cells": [
  {
   "cell_type": "code",
   "execution_count": 3,
   "id": "4cf44759",
   "metadata": {
    "colab": {
     "base_uri": "https://localhost:8080/"
    },
    "id": "4cf44759",
    "outputId": "e57aba90-7ecd-47dc-cf8c-cbebc230260e"
   },
   "outputs": [
    {
     "name": "stdout",
     "output_type": "stream",
     "text": [
      "Requirement already satisfied: transformers in /usr/local/lib/python3.11/dist-packages (4.52.3)\n",
      "Collecting dataset\n",
      "  Downloading dataset-1.6.2-py2.py3-none-any.whl.metadata (1.9 kB)\n",
      "Collecting evaluate\n",
      "  Downloading evaluate-0.4.3-py3-none-any.whl.metadata (9.2 kB)\n",
      "Requirement already satisfied: filelock in /usr/local/lib/python3.11/dist-packages (from transformers) (3.18.0)\n",
      "Requirement already satisfied: huggingface-hub<1.0,>=0.30.0 in /usr/local/lib/python3.11/dist-packages (from transformers) (0.32.2)\n",
      "Requirement already satisfied: numpy>=1.17 in /usr/local/lib/python3.11/dist-packages (from transformers) (2.0.2)\n",
      "Requirement already satisfied: packaging>=20.0 in /usr/local/lib/python3.11/dist-packages (from transformers) (24.2)\n",
      "Requirement already satisfied: pyyaml>=5.1 in /usr/local/lib/python3.11/dist-packages (from transformers) (6.0.2)\n",
      "Requirement already satisfied: regex!=2019.12.17 in /usr/local/lib/python3.11/dist-packages (from transformers) (2024.11.6)\n",
      "Requirement already satisfied: requests in /usr/local/lib/python3.11/dist-packages (from transformers) (2.32.3)\n",
      "Requirement already satisfied: tokenizers<0.22,>=0.21 in /usr/local/lib/python3.11/dist-packages (from transformers) (0.21.1)\n",
      "Requirement already satisfied: safetensors>=0.4.3 in /usr/local/lib/python3.11/dist-packages (from transformers) (0.5.3)\n",
      "Requirement already satisfied: tqdm>=4.27 in /usr/local/lib/python3.11/dist-packages (from transformers) (4.67.1)\n",
      "Collecting sqlalchemy<2.0.0,>=1.3.2 (from dataset)\n",
      "  Downloading SQLAlchemy-1.4.54-cp311-cp311-manylinux_2_5_x86_64.manylinux1_x86_64.manylinux_2_17_x86_64.manylinux2014_x86_64.whl.metadata (10 kB)\n",
      "Collecting alembic>=0.6.2 (from dataset)\n",
      "  Downloading alembic-1.16.1-py3-none-any.whl.metadata (7.3 kB)\n",
      "Collecting banal>=1.0.1 (from dataset)\n",
      "  Downloading banal-1.0.6-py2.py3-none-any.whl.metadata (1.4 kB)\n",
      "Requirement already satisfied: datasets>=2.0.0 in /usr/local/lib/python3.11/dist-packages (from evaluate) (2.14.4)\n",
      "Requirement already satisfied: dill in /usr/local/lib/python3.11/dist-packages (from evaluate) (0.3.7)\n",
      "Requirement already satisfied: pandas in /usr/local/lib/python3.11/dist-packages (from evaluate) (2.2.2)\n",
      "Requirement already satisfied: xxhash in /usr/local/lib/python3.11/dist-packages (from evaluate) (3.5.0)\n",
      "Requirement already satisfied: multiprocess in /usr/local/lib/python3.11/dist-packages (from evaluate) (0.70.15)\n",
      "Requirement already satisfied: fsspec>=2021.05.0 in /usr/local/lib/python3.11/dist-packages (from fsspec[http]>=2021.05.0->evaluate) (2025.3.2)\n",
      "Requirement already satisfied: Mako in /usr/lib/python3/dist-packages (from alembic>=0.6.2->dataset) (1.1.3)\n",
      "Requirement already satisfied: typing-extensions>=4.12 in /usr/local/lib/python3.11/dist-packages (from alembic>=0.6.2->dataset) (4.13.2)\n",
      "Requirement already satisfied: pyarrow>=8.0.0 in /usr/local/lib/python3.11/dist-packages (from datasets>=2.0.0->evaluate) (18.1.0)\n",
      "Requirement already satisfied: aiohttp in /usr/local/lib/python3.11/dist-packages (from datasets>=2.0.0->evaluate) (3.11.15)\n",
      "Requirement already satisfied: hf-xet<2.0.0,>=1.1.2 in /usr/local/lib/python3.11/dist-packages (from huggingface-hub<1.0,>=0.30.0->transformers) (1.1.2)\n",
      "Requirement already satisfied: charset-normalizer<4,>=2 in /usr/local/lib/python3.11/dist-packages (from requests->transformers) (3.4.2)\n",
      "Requirement already satisfied: idna<4,>=2.5 in /usr/local/lib/python3.11/dist-packages (from requests->transformers) (3.10)\n",
      "Requirement already satisfied: urllib3<3,>=1.21.1 in /usr/local/lib/python3.11/dist-packages (from requests->transformers) (2.4.0)\n",
      "Requirement already satisfied: certifi>=2017.4.17 in /usr/local/lib/python3.11/dist-packages (from requests->transformers) (2025.4.26)\n",
      "Requirement already satisfied: greenlet!=0.4.17 in /usr/local/lib/python3.11/dist-packages (from sqlalchemy<2.0.0,>=1.3.2->dataset) (3.2.2)\n",
      "Requirement already satisfied: python-dateutil>=2.8.2 in /usr/local/lib/python3.11/dist-packages (from pandas->evaluate) (2.9.0.post0)\n",
      "Requirement already satisfied: pytz>=2020.1 in /usr/local/lib/python3.11/dist-packages (from pandas->evaluate) (2025.2)\n",
      "Requirement already satisfied: tzdata>=2022.7 in /usr/local/lib/python3.11/dist-packages (from pandas->evaluate) (2025.2)\n",
      "Requirement already satisfied: aiohappyeyeballs>=2.3.0 in /usr/local/lib/python3.11/dist-packages (from aiohttp->datasets>=2.0.0->evaluate) (2.6.1)\n",
      "Requirement already satisfied: aiosignal>=1.1.2 in /usr/local/lib/python3.11/dist-packages (from aiohttp->datasets>=2.0.0->evaluate) (1.3.2)\n",
      "Requirement already satisfied: attrs>=17.3.0 in /usr/local/lib/python3.11/dist-packages (from aiohttp->datasets>=2.0.0->evaluate) (25.3.0)\n",
      "Requirement already satisfied: frozenlist>=1.1.1 in /usr/local/lib/python3.11/dist-packages (from aiohttp->datasets>=2.0.0->evaluate) (1.6.0)\n",
      "Requirement already satisfied: multidict<7.0,>=4.5 in /usr/local/lib/python3.11/dist-packages (from aiohttp->datasets>=2.0.0->evaluate) (6.4.4)\n",
      "Requirement already satisfied: propcache>=0.2.0 in /usr/local/lib/python3.11/dist-packages (from aiohttp->datasets>=2.0.0->evaluate) (0.3.1)\n",
      "Requirement already satisfied: yarl<2.0,>=1.17.0 in /usr/local/lib/python3.11/dist-packages (from aiohttp->datasets>=2.0.0->evaluate) (1.20.0)\n",
      "Requirement already satisfied: six>=1.5 in /usr/local/lib/python3.11/dist-packages (from python-dateutil>=2.8.2->pandas->evaluate) (1.17.0)\n",
      "Downloading dataset-1.6.2-py2.py3-none-any.whl (18 kB)\n",
      "Downloading evaluate-0.4.3-py3-none-any.whl (84 kB)\n",
      "\u001b[2K   \u001b[90m━━━━━━━━━━━━━━━━━━━━━━━━━━━━━━━━━━━━━━━━\u001b[0m \u001b[32m84.0/84.0 kB\u001b[0m \u001b[31m6.1 MB/s\u001b[0m eta \u001b[36m0:00:00\u001b[0m\n",
      "\u001b[?25hDownloading alembic-1.16.1-py3-none-any.whl (242 kB)\n",
      "\u001b[2K   \u001b[90m━━━━━━━━━━━━━━━━━━━━━━━━━━━━━━━━━━━━━━━━\u001b[0m \u001b[32m242.5/242.5 kB\u001b[0m \u001b[31m14.0 MB/s\u001b[0m eta \u001b[36m0:00:00\u001b[0m\n",
      "\u001b[?25hDownloading banal-1.0.6-py2.py3-none-any.whl (6.1 kB)\n",
      "Downloading SQLAlchemy-1.4.54-cp311-cp311-manylinux_2_5_x86_64.manylinux1_x86_64.manylinux_2_17_x86_64.manylinux2014_x86_64.whl (1.6 MB)\n",
      "\u001b[2K   \u001b[90m━━━━━━━━━━━━━━━━━━━━━━━━━━━━━━━━━━━━━━━━\u001b[0m \u001b[32m1.6/1.6 MB\u001b[0m \u001b[31m56.4 MB/s\u001b[0m eta \u001b[36m0:00:00\u001b[0m\n",
      "\u001b[?25hInstalling collected packages: banal, sqlalchemy, alembic, dataset, evaluate\n",
      "  Attempting uninstall: sqlalchemy\n",
      "    Found existing installation: SQLAlchemy 2.0.41\n",
      "    Uninstalling SQLAlchemy-2.0.41:\n",
      "      Successfully uninstalled SQLAlchemy-2.0.41\n",
      "\u001b[31mERROR: pip's dependency resolver does not currently take into account all the packages that are installed. This behaviour is the source of the following dependency conflicts.\n",
      "ipython-sql 0.5.0 requires sqlalchemy>=2.0, but you have sqlalchemy 1.4.54 which is incompatible.\u001b[0m\u001b[31m\n",
      "\u001b[0mSuccessfully installed alembic-1.16.1 banal-1.0.6 dataset-1.6.2 evaluate-0.4.3 sqlalchemy-1.4.54\n"
     ]
    }
   ],
   "source": [
    "# Instala estas librerías si no las tienes\n",
    "!pip install  transformers dataset evaluate\n"
   ]
  },
  {
   "cell_type": "code",
   "execution_count": 8,
   "id": "4LQGyoDT4IOS",
   "metadata": {
    "colab": {
     "base_uri": "https://localhost:8080/"
    },
    "id": "4LQGyoDT4IOS",
    "outputId": "de243bf0-ecbb-482c-b696-155a0c21b251"
   },
   "outputs": [
    {
     "name": "stdout",
     "output_type": "stream",
     "text": [
      "Current directory contents:\n",
      "total 16\n",
      "drwxr-xr-x 1 root root 4096 Jun  3 14:04 .\n",
      "drwxr-xr-x 1 root root 4096 Jun  4 21:32 ..\n",
      "drwxr-xr-x 4 root root 4096 Jun  3 14:04 .config\n",
      "drwxr-xr-x 1 root root 4096 Jun  3 14:04 sample_data\n",
      "Error: El archivo 'analisis_sentimiento_transformers.ipynb' no se encontró.\n",
      "Asegúrate de que el notebook está guardado con este nombre en el mismo directorio donde estás ejecutando este código.\n"
     ]
    }
   ],
   "source": [
    "import nbformat\n",
    "import os # Import the os module to check if the file exists\n",
    "\n",
    "# Cambia el nombre del archivo si es necesario\n",
    "# Asegúrate de que este es el nombre exacto del archivo de este notebook\n",
    "NOTEBOOK_FILE = 'analisis_sentimiento_transformers.ipynb'\n",
    "CLEAN_FILE = 'analisis_sentimiento_transformers_clean.ipynb'\n",
    "\n",
    "# --- Add this cell to list files ---\n",
    "print(\"Current directory contents:\")\n",
    "!ls -la\n",
    "# ----------------------------------\n",
    "\n",
    "# Verifica si el archivo existe antes de intentar abrirlo\n",
    "if not os.path.exists(NOTEBOOK_FILE):\n",
    "    print(f\"Error: El archivo '{NOTEBOOK_FILE}' no se encontró.\")\n",
    "    print(\"Asegúrate de que el notebook está guardado con este nombre en el mismo directorio donde estás ejecutando este código.\")\n",
    "else:\n",
    "    with open(NOTEBOOK_FILE) as f:\n",
    "        nb = nbformat.read(f, as_version=4)\n",
    "\n",
    "    # Limpia la metadata de widgets en cada celda\n",
    "    for cell in nb['cells']:\n",
    "        if 'metadata' in cell and 'widgets' in cell['metadata']:\n",
    "            cell['metadata'].pop('widgets')\n",
    "\n",
    "    # Limpia la metadata global de widgets\n",
    "    # Checking if 'widgets' exists before trying to pop it\n",
    "    if 'metadata' in nb and 'widgets' in nb['metadata']:\n",
    "        nb['metadata'].pop('widgets')\n",
    "\n",
    "    with open(CLEAN_FILE, 'w') as f:\n",
    "        nbformat.write(nb, f)\n",
    "\n",
    "    print(\"¡Notebook limpio y guardado como\", CLEAN_FILE, \"!\")"
   ]
  },
  {
   "cell_type": "code",
   "execution_count": null,
   "id": "4d06b845",
   "metadata": {
    "id": "4d06b845"
   },
   "outputs": [],
   "source": [
    "import pandas as pd\n",
    "from sklearn.model_selection import train_test_split\n",
    "from datasets import Dataset\n",
    "from transformers import BertTokenizer, BertForSequenceClassification, Trainer, TrainingArguments\n",
    "from transformers import DataCollatorWithPadding\n",
    "from sklearn.metrics import classification_report\n",
    "\n",
    "import pandas as pd\n",
    "import numpy as np\n",
    "\n",
    "import evaluate\n",
    "\n",
    "from transformers import AutoTokenizer, AutoModelForSequenceClassification, TrainingArguments, Trainer\n",
    "\n",
    "from datasets import Dataset, DatasetDict\n"
   ]
  },
  {
   "cell_type": "markdown",
   "id": "Ugevec7SiYL4",
   "metadata": {
    "id": "Ugevec7SiYL4"
   },
   "source": [
    "## cargar dataset"
   ]
  },
  {
   "cell_type": "markdown",
   "id": "GvJ6cixZibm3",
   "metadata": {
    "id": "GvJ6cixZibm3"
   },
   "source": [
    "Descomprimir archivo zip"
   ]
  },
  {
   "cell_type": "code",
   "execution_count": null,
   "id": "uN-z1s2Iid_c",
   "metadata": {
    "colab": {
     "base_uri": "https://localhost:8080/"
    },
    "id": "uN-z1s2Iid_c",
    "outputId": "d995e975-483f-4746-d1a4-c4be51d1e32b"
   },
   "outputs": [
    {
     "name": "stdout",
     "output_type": "stream",
     "text": [
      "Archive:  /content/reseñas_hoteles.zip\n",
      "  inflating: /content/reseñas_hoteles/reseñas_hoteles.csv  \n"
     ]
    }
   ],
   "source": [
    "!unzip \"/content/reseñas_hoteles.zip\" -d \"/content/reseñas_hoteles\""
   ]
  },
  {
   "cell_type": "code",
   "execution_count": null,
   "id": "8359f197",
   "metadata": {
    "colab": {
     "base_uri": "https://localhost:8080/",
     "height": 206
    },
    "id": "8359f197",
    "outputId": "9325a509-8ce8-47a1-cb20-8ad11199e781"
   },
   "outputs": [
    {
     "data": {
      "application/vnd.google.colaboratory.intrinsic+json": {
       "type": "dataframe",
       "variable_name": "df"
      },
      "text/html": [
       "\n",
       "  <div id=\"df-0ed55fcb-555f-40b0-b4f5-51a9603fe4d7\" class=\"colab-df-container\">\n",
       "    <div>\n",
       "<style scoped>\n",
       "    .dataframe tbody tr th:only-of-type {\n",
       "        vertical-align: middle;\n",
       "    }\n",
       "\n",
       "    .dataframe tbody tr th {\n",
       "        vertical-align: top;\n",
       "    }\n",
       "\n",
       "    .dataframe thead th {\n",
       "        text-align: right;\n",
       "    }\n",
       "</style>\n",
       "<table border=\"1\" class=\"dataframe\">\n",
       "  <thead>\n",
       "    <tr style=\"text-align: right;\">\n",
       "      <th></th>\n",
       "      <th>reseña</th>\n",
       "      <th>label</th>\n",
       "    </tr>\n",
       "  </thead>\n",
       "  <tbody>\n",
       "    <tr>\n",
       "      <th>0</th>\n",
       "      <td>No fue lo que esperaba. Algunos servicios no e...</td>\n",
       "      <td>1</td>\n",
       "    </tr>\n",
       "    <tr>\n",
       "      <th>1</th>\n",
       "      <td>La habitación era aceptable, pero el ruido fue...</td>\n",
       "      <td>1</td>\n",
       "    </tr>\n",
       "    <tr>\n",
       "      <th>2</th>\n",
       "      <td>Excelente hotel. Superó todas mis expectativas.</td>\n",
       "      <td>4</td>\n",
       "    </tr>\n",
       "    <tr>\n",
       "      <th>3</th>\n",
       "      <td>Buena experiencia. La atención fue excelente a...</td>\n",
       "      <td>3</td>\n",
       "    </tr>\n",
       "    <tr>\n",
       "      <th>4</th>\n",
       "      <td>El servicio podría mejorar bastante. No lo rec...</td>\n",
       "      <td>1</td>\n",
       "    </tr>\n",
       "  </tbody>\n",
       "</table>\n",
       "</div>\n",
       "    <div class=\"colab-df-buttons\">\n",
       "\n",
       "  <div class=\"colab-df-container\">\n",
       "    <button class=\"colab-df-convert\" onclick=\"convertToInteractive('df-0ed55fcb-555f-40b0-b4f5-51a9603fe4d7')\"\n",
       "            title=\"Convert this dataframe to an interactive table.\"\n",
       "            style=\"display:none;\">\n",
       "\n",
       "  <svg xmlns=\"http://www.w3.org/2000/svg\" height=\"24px\" viewBox=\"0 -960 960 960\">\n",
       "    <path d=\"M120-120v-720h720v720H120Zm60-500h600v-160H180v160Zm220 220h160v-160H400v160Zm0 220h160v-160H400v160ZM180-400h160v-160H180v160Zm440 0h160v-160H620v160ZM180-180h160v-160H180v160Zm440 0h160v-160H620v160Z\"/>\n",
       "  </svg>\n",
       "    </button>\n",
       "\n",
       "  <style>\n",
       "    .colab-df-container {\n",
       "      display:flex;\n",
       "      gap: 12px;\n",
       "    }\n",
       "\n",
       "    .colab-df-convert {\n",
       "      background-color: #E8F0FE;\n",
       "      border: none;\n",
       "      border-radius: 50%;\n",
       "      cursor: pointer;\n",
       "      display: none;\n",
       "      fill: #1967D2;\n",
       "      height: 32px;\n",
       "      padding: 0 0 0 0;\n",
       "      width: 32px;\n",
       "    }\n",
       "\n",
       "    .colab-df-convert:hover {\n",
       "      background-color: #E2EBFA;\n",
       "      box-shadow: 0px 1px 2px rgba(60, 64, 67, 0.3), 0px 1px 3px 1px rgba(60, 64, 67, 0.15);\n",
       "      fill: #174EA6;\n",
       "    }\n",
       "\n",
       "    .colab-df-buttons div {\n",
       "      margin-bottom: 4px;\n",
       "    }\n",
       "\n",
       "    [theme=dark] .colab-df-convert {\n",
       "      background-color: #3B4455;\n",
       "      fill: #D2E3FC;\n",
       "    }\n",
       "\n",
       "    [theme=dark] .colab-df-convert:hover {\n",
       "      background-color: #434B5C;\n",
       "      box-shadow: 0px 1px 3px 1px rgba(0, 0, 0, 0.15);\n",
       "      filter: drop-shadow(0px 1px 2px rgba(0, 0, 0, 0.3));\n",
       "      fill: #FFFFFF;\n",
       "    }\n",
       "  </style>\n",
       "\n",
       "    <script>\n",
       "      const buttonEl =\n",
       "        document.querySelector('#df-0ed55fcb-555f-40b0-b4f5-51a9603fe4d7 button.colab-df-convert');\n",
       "      buttonEl.style.display =\n",
       "        google.colab.kernel.accessAllowed ? 'block' : 'none';\n",
       "\n",
       "      async function convertToInteractive(key) {\n",
       "        const element = document.querySelector('#df-0ed55fcb-555f-40b0-b4f5-51a9603fe4d7');\n",
       "        const dataTable =\n",
       "          await google.colab.kernel.invokeFunction('convertToInteractive',\n",
       "                                                    [key], {});\n",
       "        if (!dataTable) return;\n",
       "\n",
       "        const docLinkHtml = 'Like what you see? Visit the ' +\n",
       "          '<a target=\"_blank\" href=https://colab.research.google.com/notebooks/data_table.ipynb>data table notebook</a>'\n",
       "          + ' to learn more about interactive tables.';\n",
       "        element.innerHTML = '';\n",
       "        dataTable['output_type'] = 'display_data';\n",
       "        await google.colab.output.renderOutput(dataTable, element);\n",
       "        const docLink = document.createElement('div');\n",
       "        docLink.innerHTML = docLinkHtml;\n",
       "        element.appendChild(docLink);\n",
       "      }\n",
       "    </script>\n",
       "  </div>\n",
       "\n",
       "\n",
       "    <div id=\"df-fa51bdf7-1228-4bc3-8510-d41df0fcfd6e\">\n",
       "      <button class=\"colab-df-quickchart\" onclick=\"quickchart('df-fa51bdf7-1228-4bc3-8510-d41df0fcfd6e')\"\n",
       "                title=\"Suggest charts\"\n",
       "                style=\"display:none;\">\n",
       "\n",
       "<svg xmlns=\"http://www.w3.org/2000/svg\" height=\"24px\"viewBox=\"0 0 24 24\"\n",
       "     width=\"24px\">\n",
       "    <g>\n",
       "        <path d=\"M19 3H5c-1.1 0-2 .9-2 2v14c0 1.1.9 2 2 2h14c1.1 0 2-.9 2-2V5c0-1.1-.9-2-2-2zM9 17H7v-7h2v7zm4 0h-2V7h2v10zm4 0h-2v-4h2v4z\"/>\n",
       "    </g>\n",
       "</svg>\n",
       "      </button>\n",
       "\n",
       "<style>\n",
       "  .colab-df-quickchart {\n",
       "      --bg-color: #E8F0FE;\n",
       "      --fill-color: #1967D2;\n",
       "      --hover-bg-color: #E2EBFA;\n",
       "      --hover-fill-color: #174EA6;\n",
       "      --disabled-fill-color: #AAA;\n",
       "      --disabled-bg-color: #DDD;\n",
       "  }\n",
       "\n",
       "  [theme=dark] .colab-df-quickchart {\n",
       "      --bg-color: #3B4455;\n",
       "      --fill-color: #D2E3FC;\n",
       "      --hover-bg-color: #434B5C;\n",
       "      --hover-fill-color: #FFFFFF;\n",
       "      --disabled-bg-color: #3B4455;\n",
       "      --disabled-fill-color: #666;\n",
       "  }\n",
       "\n",
       "  .colab-df-quickchart {\n",
       "    background-color: var(--bg-color);\n",
       "    border: none;\n",
       "    border-radius: 50%;\n",
       "    cursor: pointer;\n",
       "    display: none;\n",
       "    fill: var(--fill-color);\n",
       "    height: 32px;\n",
       "    padding: 0;\n",
       "    width: 32px;\n",
       "  }\n",
       "\n",
       "  .colab-df-quickchart:hover {\n",
       "    background-color: var(--hover-bg-color);\n",
       "    box-shadow: 0 1px 2px rgba(60, 64, 67, 0.3), 0 1px 3px 1px rgba(60, 64, 67, 0.15);\n",
       "    fill: var(--button-hover-fill-color);\n",
       "  }\n",
       "\n",
       "  .colab-df-quickchart-complete:disabled,\n",
       "  .colab-df-quickchart-complete:disabled:hover {\n",
       "    background-color: var(--disabled-bg-color);\n",
       "    fill: var(--disabled-fill-color);\n",
       "    box-shadow: none;\n",
       "  }\n",
       "\n",
       "  .colab-df-spinner {\n",
       "    border: 2px solid var(--fill-color);\n",
       "    border-color: transparent;\n",
       "    border-bottom-color: var(--fill-color);\n",
       "    animation:\n",
       "      spin 1s steps(1) infinite;\n",
       "  }\n",
       "\n",
       "  @keyframes spin {\n",
       "    0% {\n",
       "      border-color: transparent;\n",
       "      border-bottom-color: var(--fill-color);\n",
       "      border-left-color: var(--fill-color);\n",
       "    }\n",
       "    20% {\n",
       "      border-color: transparent;\n",
       "      border-left-color: var(--fill-color);\n",
       "      border-top-color: var(--fill-color);\n",
       "    }\n",
       "    30% {\n",
       "      border-color: transparent;\n",
       "      border-left-color: var(--fill-color);\n",
       "      border-top-color: var(--fill-color);\n",
       "      border-right-color: var(--fill-color);\n",
       "    }\n",
       "    40% {\n",
       "      border-color: transparent;\n",
       "      border-right-color: var(--fill-color);\n",
       "      border-top-color: var(--fill-color);\n",
       "    }\n",
       "    60% {\n",
       "      border-color: transparent;\n",
       "      border-right-color: var(--fill-color);\n",
       "    }\n",
       "    80% {\n",
       "      border-color: transparent;\n",
       "      border-right-color: var(--fill-color);\n",
       "      border-bottom-color: var(--fill-color);\n",
       "    }\n",
       "    90% {\n",
       "      border-color: transparent;\n",
       "      border-bottom-color: var(--fill-color);\n",
       "    }\n",
       "  }\n",
       "</style>\n",
       "\n",
       "      <script>\n",
       "        async function quickchart(key) {\n",
       "          const quickchartButtonEl =\n",
       "            document.querySelector('#' + key + ' button');\n",
       "          quickchartButtonEl.disabled = true;  // To prevent multiple clicks.\n",
       "          quickchartButtonEl.classList.add('colab-df-spinner');\n",
       "          try {\n",
       "            const charts = await google.colab.kernel.invokeFunction(\n",
       "                'suggestCharts', [key], {});\n",
       "          } catch (error) {\n",
       "            console.error('Error during call to suggestCharts:', error);\n",
       "          }\n",
       "          quickchartButtonEl.classList.remove('colab-df-spinner');\n",
       "          quickchartButtonEl.classList.add('colab-df-quickchart-complete');\n",
       "        }\n",
       "        (() => {\n",
       "          let quickchartButtonEl =\n",
       "            document.querySelector('#df-fa51bdf7-1228-4bc3-8510-d41df0fcfd6e button');\n",
       "          quickchartButtonEl.style.display =\n",
       "            google.colab.kernel.accessAllowed ? 'block' : 'none';\n",
       "        })();\n",
       "      </script>\n",
       "    </div>\n",
       "\n",
       "    </div>\n",
       "  </div>\n"
      ],
      "text/plain": [
       "                                              reseña  label\n",
       "0  No fue lo que esperaba. Algunos servicios no e...      1\n",
       "1  La habitación era aceptable, pero el ruido fue...      1\n",
       "2    Excelente hotel. Superó todas mis expectativas.      4\n",
       "3  Buena experiencia. La atención fue excelente a...      3\n",
       "4  El servicio podría mejorar bastante. No lo rec...      1"
      ]
     },
     "execution_count": 4,
     "metadata": {},
     "output_type": "execute_result"
    }
   ],
   "source": [
    "# Cargar el dataset\n",
    "csv_path = \"/content/reseñas_hoteles/reseñas_hoteles.csv\"\n",
    "df = pd.read_csv(csv_path)\n",
    "\n",
    "# Asegurarse de que las clases estén entre 0 y 4 (para 5 clases)\n",
    "df[\"label\"] = df[\"label\"] - 1  # de 0 a 4\n",
    "df = df[[\"reseña\", \"label\"]]\n",
    "df.head()\n"
   ]
  },
  {
   "cell_type": "markdown",
   "id": "-rAfuxB4GnzI",
   "metadata": {
    "id": "-rAfuxB4GnzI"
   },
   "source": [
    "## Acondicionar columnas"
   ]
  },
  {
   "cell_type": "markdown",
   "id": "zbiK-oX2GtQ1",
   "metadata": {
    "id": "zbiK-oX2GtQ1"
   },
   "source": [
    "Separar los dataset en train, test y validation.\n",
    "\n",
    "df_train_es (70% del dataset original)\n",
    "df_test_es (20% del dataset original)\n",
    "df_val_es (10% del dataset original)"
   ]
  },
  {
   "cell_type": "code",
   "execution_count": null,
   "id": "ZunxAIZhGdsV",
   "metadata": {
    "id": "ZunxAIZhGdsV"
   },
   "outputs": [],
   "source": [
    "from sklearn.model_selection import train_test_split\n",
    "\n",
    "# Paso 1: Dividir en entrenamiento (70%) y el resto (30%)\n",
    "df_train_es, df_temp_es = train_test_split(df, test_size=0.3, random_state=42)  # Usa un random_state para reproducibilidad\n",
    "\n",
    "# Paso 2: Dividir el resto (30%) en prueba (20%) y validación (10%)\n",
    "df_test_es, df_val_es = train_test_split(df_temp_es, test_size=2/3, random_state=42)  # 20/30 = 2/3"
   ]
  },
  {
   "cell_type": "markdown",
   "id": "U60ee-GdHDTf",
   "metadata": {
    "id": "U60ee-GdHDTf"
   },
   "source": [
    "## Adaptar formato del dataset 🔧"
   ]
  },
  {
   "cell_type": "code",
   "execution_count": null,
   "id": "0DeILEBZGfsV",
   "metadata": {
    "colab": {
     "base_uri": "https://localhost:8080/"
    },
    "id": "0DeILEBZGfsV",
    "outputId": "85df3c96-2493-4d41-9f2d-65898a088fc6"
   },
   "outputs": [
    {
     "name": "stdout",
     "output_type": "stream",
     "text": [
      "DatasetDict({\n",
      "    train: Dataset({\n",
      "        features: ['reseña', 'label', '__index_level_0__'],\n",
      "        num_rows: 102900\n",
      "    })\n",
      "    validation: Dataset({\n",
      "        features: ['reseña', 'label', '__index_level_0__'],\n",
      "        num_rows: 29400\n",
      "    })\n",
      "    test: Dataset({\n",
      "        features: ['reseña', 'label', '__index_level_0__'],\n",
      "        num_rows: 14700\n",
      "    })\n",
      "})\n"
     ]
    }
   ],
   "source": [
    "# Convertir los DataFrames en objetos Dataset de la librería datasets\n",
    "train_dataset = Dataset.from_pandas(df_train_es)\n",
    "test_dataset = Dataset.from_pandas(df_test_es)\n",
    "val_dataset = Dataset.from_pandas(df_val_es)\n",
    "\n",
    "# Crear un DatasetDict con los conjuntos de datos\n",
    "dataset = DatasetDict({\n",
    "    'train': train_dataset,\n",
    "    'validation': val_dataset,\n",
    "    'test': test_dataset\n",
    "})\n",
    "\n",
    "# Ver la estructura\n",
    "print(dataset)"
   ]
  },
  {
   "cell_type": "markdown",
   "id": "uO77SG9wHHFL",
   "metadata": {
    "id": "uO77SG9wHHFL"
   },
   "source": [
    "## Tokenización 📊"
   ]
  },
  {
   "cell_type": "code",
   "execution_count": null,
   "id": "prTcS0K-Pv0n",
   "metadata": {
    "id": "prTcS0K-Pv0n"
   },
   "outputs": [],
   "source": [
    "#from transformers import AutoTokenizer\n",
    "\n",
    "#tokenizer = AutoTokenizer.from_pretrained(\n",
    "   # \"PlanTL-GOB-ES/roberta-base-bne\",\n",
    "   # local_files_only=False  # Fuerza descarga local, no inferencia\n",
    "#)"
   ]
  },
  {
   "cell_type": "code",
   "execution_count": null,
   "id": "a3916f82",
   "metadata": {
    "colab": {
     "base_uri": "https://localhost:8080/",
     "height": 301,
     "referenced_widgets": [
      "7cc15af36f3943a1929911ff208f3ddb",
      "880a74618c8e4fdd8760b8b1f73e5aa1",
      "e0a76f1fe390475193fa0fe3740a8dfd",
      "f4d0b4e0af5548c8ace655ca0fb397fb",
      "d37bf1e231174921a1b97d132ca4d033",
      "ccd6fb83c29649d0b56a252679e459e8",
      "bf1f77f7e63e4896bd6d4eacdb5caa22",
      "f288c7674cfd45599e73caa244a4973f",
      "4906e711bf054a258b81048e91f76b08",
      "11332d219fed47f8ba4cfe62dd7156af",
      "f7c704f1779041f781703b4936fec1ee",
      "1394645099b84b50a37f4e8309249513",
      "31e35efaa49f48159f3a17e9b9a6e790",
      "0e3aa708b62141ceac2023b036129495",
      "20115af485cb401abea17938a6220e06",
      "7c3b973edd4d4fbf833b56fa444f0e2b",
      "57323bd7f0814b738cbcccbced4526e1",
      "e76aba5a04744d86ba384e22dbb5b73e",
      "5fce5e9d14ba460a9c039f49cbce1358",
      "80fbf211e6c84511a5487bdc796607c3",
      "6d82c7fef4ba4607952c5938439ca393",
      "7c264d4a2a35492ab122edae71399a29",
      "85bbb6d58d6b4b2e8865bb5bd7cb52fe",
      "a894574194824478889c22e5ccb107a3",
      "e5c6c2f7ccad4149a6f0be58bf28095b",
      "07a82a0e7b5844a098cf87405956f51c",
      "d21dac12874d4601aab0d31c8a921d62",
      "0c434a4d2565420ab8d300158263579e",
      "7a44e4e0dd544ff4aa5dfc59b7b1c79d",
      "a1d09d5871d647e28f4985ce31de0699",
      "d7acbbee8a5e4c54a0246c3835db60f4",
      "bc885af8ba7c421fafceecb580c8938b",
      "87f98e1aaf9643dfa155022afe5ec56b",
      "8917c9ad15f34977a22e9e81777659c5",
      "36fce0bb2454449c8f2b116a28dad87a",
      "dcde654609c74262993bec85692e9dc8",
      "acb54cd8e43e49118d649b73539e7bc8",
      "635e62a95c7d42458d104800cdc93240",
      "4c8e96a7277843d5b4adcba9cf12f37d",
      "1db88c164ad744e9ab7c9b436382dcf7",
      "7e2f822dc86049499a00bca1517e21f0",
      "72286195849e4b8a81022bf76d5cb164",
      "e59d243c4d1145e092e551f29d5f4471",
      "9a48a9000e4b4ceabe9fd12cd6b8dba7",
      "17b40d216e2541c898f6b6d4a459e77e",
      "b5607dce5ad74fd09e0c94e42c7f8899",
      "89a7b26e3ccd4adba3da658649158fa7",
      "4554e7bf0d2f4006902c609315e8b647",
      "e8f59ee77a394f7ab2f62595001a3df0",
      "4bfa754d469d418b81165a53057b9b56",
      "bed423bb12df44fbb94affd55d79430a",
      "25b44ef96784476b8e7288e0d11491af",
      "54bd921c48ac4d71ac4b2d3bcba6982a",
      "e4227163aa28409e8abee2fb28d0cc95",
      "ae74d3a21f8845f69ebfb50d81506bd5"
     ]
    },
    "id": "a3916f82",
    "outputId": "567f7b45-2216-41ca-ffb2-5c6e23421856"
   },
   "outputs": [
    {
     "name": "stderr",
     "output_type": "stream",
     "text": [
      "/usr/local/lib/python3.11/dist-packages/huggingface_hub/utils/_auth.py:94: UserWarning: \n",
      "The secret `HF_TOKEN` does not exist in your Colab secrets.\n",
      "To authenticate with the Hugging Face Hub, create a token in your settings tab (https://huggingface.co/settings/tokens), set it as secret in your Google Colab and restart your session.\n",
      "You will be able to reuse this secret in all of your notebooks.\n",
      "Please note that authentication is recommended but still optional to access public models or datasets.\n",
      "  warnings.warn(\n"
     ]
    },
    {
     "data": {
      "application/vnd.jupyter.widget-view+json": {
       "model_id": "7cc15af36f3943a1929911ff208f3ddb",
       "version_major": 2,
       "version_minor": 0
      },
      "text/plain": [
       "tokenizer_config.json:   0%|          | 0.00/1.39k [00:00<?, ?B/s]"
      ]
     },
     "metadata": {},
     "output_type": "display_data"
    },
    {
     "data": {
      "application/vnd.jupyter.widget-view+json": {
       "model_id": "1394645099b84b50a37f4e8309249513",
       "version_major": 2,
       "version_minor": 0
      },
      "text/plain": [
       "vocab.json:   0%|          | 0.00/851k [00:00<?, ?B/s]"
      ]
     },
     "metadata": {},
     "output_type": "display_data"
    },
    {
     "data": {
      "application/vnd.jupyter.widget-view+json": {
       "model_id": "85bbb6d58d6b4b2e8865bb5bd7cb52fe",
       "version_major": 2,
       "version_minor": 0
      },
      "text/plain": [
       "merges.txt:   0%|          | 0.00/509k [00:00<?, ?B/s]"
      ]
     },
     "metadata": {},
     "output_type": "display_data"
    },
    {
     "data": {
      "application/vnd.jupyter.widget-view+json": {
       "model_id": "8917c9ad15f34977a22e9e81777659c5",
       "version_major": 2,
       "version_minor": 0
      },
      "text/plain": [
       "tokenizer.json:   0%|          | 0.00/2.21M [00:00<?, ?B/s]"
      ]
     },
     "metadata": {},
     "output_type": "display_data"
    },
    {
     "data": {
      "application/vnd.jupyter.widget-view+json": {
       "model_id": "17b40d216e2541c898f6b6d4a459e77e",
       "version_major": 2,
       "version_minor": 0
      },
      "text/plain": [
       "special_tokens_map.json:   0%|          | 0.00/957 [00:00<?, ?B/s]"
      ]
     },
     "metadata": {},
     "output_type": "display_data"
    }
   ],
   "source": [
    "\n",
    "model_checkpoint = \"PlanTL-GOB-ES/roberta-base-bne\"\n",
    "tokenizer = AutoTokenizer.from_pretrained(model_checkpoint, local_files_only=False)  # Fuerza descarga local, no inferencia)\n",
    "\n",
    "\n",
    "\n",
    "\n",
    "\n",
    "\n"
   ]
  },
  {
   "cell_type": "code",
   "execution_count": null,
   "id": "N9tamfHKo1y7",
   "metadata": {
    "id": "N9tamfHKo1y7"
   },
   "outputs": [],
   "source": [
    "# Tokenizar función\n",
    "def tokenize_function(examples):\n",
    "    return tokenizer(examples[\"reseña\"], truncation=True)"
   ]
  },
  {
   "cell_type": "code",
   "execution_count": null,
   "id": "oc4TiykZPutM",
   "metadata": {
    "colab": {
     "base_uri": "https://localhost:8080/",
     "height": 356,
     "referenced_widgets": [
      "3adc39a460b44c50a24fcf72feb2077a",
      "7dfc62b09e5d4537a7082efa0a333307",
      "4f539f001c5849a8a14189aabcdf428d",
      "9b54788a9a6c4aaf843132b2d6b45d4a",
      "cbfe9bece182488ba28b0bae921a9ecd",
      "891a55ea99844fb6b550bdff4fe64670",
      "c29a865657e444a3abfb0c35c875fd16",
      "ec80bd21c9524620be8ac74044ac453e",
      "af6d5af0758e45aba5577ad4497f0d20",
      "b741d8183aec4d6da08a1942d6367d1c",
      "87037a36c4714a0d9ba09e97cb42c3aa",
      "603844141b374b38ad3b4541c3256375",
      "7a77728966554b66bee5d54027d6031c",
      "bde172d0cead4831b634d5bf1a092ef6",
      "2d905caa693843ebbb332aafa02a22e9",
      "d1c60a6e79cb4218ad75b7fb26698454",
      "5c6885d87a4347e2816a3b258bdbdb27",
      "69aab454e9684eed945969e728f6642e",
      "fc4a335befbb48fc9851ff85e55259b3",
      "6bf044ab181f4c1a82618db0d61c12c1",
      "25fe977d041e4ba48ed8f3a7a8bf0edd",
      "a6f1d94629b34e2d984629c0ebaa0dc7",
      "a7d22bf9cecb4623b63b208ef34e516b",
      "b4a5e1176aae4153b855f3251ce3d396",
      "70996b5bb5424d84b1e0855a16d4268f",
      "e1afe142a4ff498d87c2d2e2ac1e800b",
      "fdefecc3ca344ec08a3d42c8c32611f8",
      "91fb472caa0a4a5e8f7b30422f400991",
      "c9f358464f4c4a70ad7e3f8b1c1e4201",
      "fd933dd13c8243389ab6dffdce3569e4",
      "d117da70d1354f818311444a7c752be8",
      "a564cf5d540545fea1d528b605bc994d",
      "3d285cabb5354418bd8555867f26c05e"
     ]
    },
    "id": "oc4TiykZPutM",
    "outputId": "a6e89b95-ef12-47bc-af82-04b844023a29"
   },
   "outputs": [
    {
     "data": {
      "application/vnd.jupyter.widget-view+json": {
       "model_id": "3adc39a460b44c50a24fcf72feb2077a",
       "version_major": 2,
       "version_minor": 0
      },
      "text/plain": [
       "Map:   0%|          | 0/102900 [00:00<?, ? examples/s]"
      ]
     },
     "metadata": {},
     "output_type": "display_data"
    },
    {
     "data": {
      "application/vnd.jupyter.widget-view+json": {
       "model_id": "603844141b374b38ad3b4541c3256375",
       "version_major": 2,
       "version_minor": 0
      },
      "text/plain": [
       "Map:   0%|          | 0/29400 [00:00<?, ? examples/s]"
      ]
     },
     "metadata": {},
     "output_type": "display_data"
    },
    {
     "data": {
      "application/vnd.jupyter.widget-view+json": {
       "model_id": "a7d22bf9cecb4623b63b208ef34e516b",
       "version_major": 2,
       "version_minor": 0
      },
      "text/plain": [
       "Map:   0%|          | 0/14700 [00:00<?, ? examples/s]"
      ]
     },
     "metadata": {},
     "output_type": "display_data"
    },
    {
     "name": "stdout",
     "output_type": "stream",
     "text": [
      "DatasetDict({\n",
      "    train: Dataset({\n",
      "        features: ['label', 'input_ids', 'attention_mask'],\n",
      "        num_rows: 102900\n",
      "    })\n",
      "    validation: Dataset({\n",
      "        features: ['label', 'input_ids', 'attention_mask'],\n",
      "        num_rows: 29400\n",
      "    })\n",
      "    test: Dataset({\n",
      "        features: ['label', 'input_ids', 'attention_mask'],\n",
      "        num_rows: 14700\n",
      "    })\n",
      "})\n"
     ]
    }
   ],
   "source": [
    "columns = dataset[\"train\"].column_names\n",
    "columns.remove(\"label\")\n",
    "encoded_dataset = dataset.map(tokenize_function, batched=True, remove_columns=columns)\n",
    "print(encoded_dataset)"
   ]
  },
  {
   "cell_type": "markdown",
   "id": "_IBk4eo98zuc",
   "metadata": {
    "id": "_IBk4eo98zuc"
   },
   "source": [
    "## Finetuning de la convnet"
   ]
  },
  {
   "cell_type": "code",
   "execution_count": null,
   "id": "1f98cd00",
   "metadata": {
    "colab": {
     "base_uri": "https://localhost:8080/",
     "height": 153,
     "referenced_widgets": [
      "d3d42726b825482cacc7b4aa63535d8a",
      "b39dc6c4074c49ce96d335c021339f19",
      "f0d55178ddf943b89de657c32d5e3770",
      "fbe27e9ebc944a28a99bc0ea6abe618b",
      "f02920f79cec46b8a022a89a2567171a",
      "e812f001901e4ce69f57213c6022c451",
      "3c98bde61c894d6aac14e480c1366296",
      "0e0563fac9704ef6bbd528f940dfbe10",
      "6a8125a940144bd79efd8f875d0a4fd0",
      "63f234507ba8490f840833a92ec20bae",
      "9e2202a18115434a9c6f51a58a70018d",
      "073ddbc21d70493596f8516f54fc15d6",
      "6570706a653a4f15a98ba271df36babe",
      "2bf076cdfe284ef4ad17c4430b118c7a",
      "8dfea390b81c4349be7891099b66b1a2",
      "7ce918861e864cc1b8fd7874d8008681",
      "6bcbd25a735b4205af403d557d99aa00",
      "fa8f276ce7da4de288feeee1d508d18c",
      "d61867396f7c4303b15639ead4584edc",
      "e28fcd38256f46d2826b1c03b2062b95",
      "d920bffdb84b408a896c7da7339c5a29",
      "c4bc6b5c33e245aebf284216a63c2d9a"
     ]
    },
    "id": "1f98cd00",
    "outputId": "57cb72c9-8750-47cb-f378-96ae5ee5a13d"
   },
   "outputs": [
    {
     "data": {
      "application/vnd.jupyter.widget-view+json": {
       "model_id": "d3d42726b825482cacc7b4aa63535d8a",
       "version_major": 2,
       "version_minor": 0
      },
      "text/plain": [
       "config.json:   0%|          | 0.00/613 [00:00<?, ?B/s]"
      ]
     },
     "metadata": {},
     "output_type": "display_data"
    },
    {
     "name": "stderr",
     "output_type": "stream",
     "text": [
      "You are using a model of type roberta to instantiate a model of type bert. This is not supported for all configurations of models and can yield errors.\n"
     ]
    },
    {
     "data": {
      "application/vnd.jupyter.widget-view+json": {
       "model_id": "073ddbc21d70493596f8516f54fc15d6",
       "version_major": 2,
       "version_minor": 0
      },
      "text/plain": [
       "pytorch_model.bin:   0%|          | 0.00/499M [00:00<?, ?B/s]"
      ]
     },
     "metadata": {},
     "output_type": "display_data"
    },
    {
     "name": "stderr",
     "output_type": "stream",
     "text": [
      "Some weights of BertForSequenceClassification were not initialized from the model checkpoint at PlanTL-GOB-ES/roberta-base-bne and are newly initialized: ['bert.embeddings.LayerNorm.bias', 'bert.embeddings.LayerNorm.weight', 'bert.embeddings.position_embeddings.weight', 'bert.embeddings.token_type_embeddings.weight', 'bert.embeddings.word_embeddings.weight', 'bert.encoder.layer.0.attention.output.LayerNorm.bias', 'bert.encoder.layer.0.attention.output.LayerNorm.weight', 'bert.encoder.layer.0.attention.output.dense.bias', 'bert.encoder.layer.0.attention.output.dense.weight', 'bert.encoder.layer.0.attention.self.key.bias', 'bert.encoder.layer.0.attention.self.key.weight', 'bert.encoder.layer.0.attention.self.query.bias', 'bert.encoder.layer.0.attention.self.query.weight', 'bert.encoder.layer.0.attention.self.value.bias', 'bert.encoder.layer.0.attention.self.value.weight', 'bert.encoder.layer.0.intermediate.dense.bias', 'bert.encoder.layer.0.intermediate.dense.weight', 'bert.encoder.layer.0.output.LayerNorm.bias', 'bert.encoder.layer.0.output.LayerNorm.weight', 'bert.encoder.layer.0.output.dense.bias', 'bert.encoder.layer.0.output.dense.weight', 'bert.encoder.layer.1.attention.output.LayerNorm.bias', 'bert.encoder.layer.1.attention.output.LayerNorm.weight', 'bert.encoder.layer.1.attention.output.dense.bias', 'bert.encoder.layer.1.attention.output.dense.weight', 'bert.encoder.layer.1.attention.self.key.bias', 'bert.encoder.layer.1.attention.self.key.weight', 'bert.encoder.layer.1.attention.self.query.bias', 'bert.encoder.layer.1.attention.self.query.weight', 'bert.encoder.layer.1.attention.self.value.bias', 'bert.encoder.layer.1.attention.self.value.weight', 'bert.encoder.layer.1.intermediate.dense.bias', 'bert.encoder.layer.1.intermediate.dense.weight', 'bert.encoder.layer.1.output.LayerNorm.bias', 'bert.encoder.layer.1.output.LayerNorm.weight', 'bert.encoder.layer.1.output.dense.bias', 'bert.encoder.layer.1.output.dense.weight', 'bert.encoder.layer.10.attention.output.LayerNorm.bias', 'bert.encoder.layer.10.attention.output.LayerNorm.weight', 'bert.encoder.layer.10.attention.output.dense.bias', 'bert.encoder.layer.10.attention.output.dense.weight', 'bert.encoder.layer.10.attention.self.key.bias', 'bert.encoder.layer.10.attention.self.key.weight', 'bert.encoder.layer.10.attention.self.query.bias', 'bert.encoder.layer.10.attention.self.query.weight', 'bert.encoder.layer.10.attention.self.value.bias', 'bert.encoder.layer.10.attention.self.value.weight', 'bert.encoder.layer.10.intermediate.dense.bias', 'bert.encoder.layer.10.intermediate.dense.weight', 'bert.encoder.layer.10.output.LayerNorm.bias', 'bert.encoder.layer.10.output.LayerNorm.weight', 'bert.encoder.layer.10.output.dense.bias', 'bert.encoder.layer.10.output.dense.weight', 'bert.encoder.layer.11.attention.output.LayerNorm.bias', 'bert.encoder.layer.11.attention.output.LayerNorm.weight', 'bert.encoder.layer.11.attention.output.dense.bias', 'bert.encoder.layer.11.attention.output.dense.weight', 'bert.encoder.layer.11.attention.self.key.bias', 'bert.encoder.layer.11.attention.self.key.weight', 'bert.encoder.layer.11.attention.self.query.bias', 'bert.encoder.layer.11.attention.self.query.weight', 'bert.encoder.layer.11.attention.self.value.bias', 'bert.encoder.layer.11.attention.self.value.weight', 'bert.encoder.layer.11.intermediate.dense.bias', 'bert.encoder.layer.11.intermediate.dense.weight', 'bert.encoder.layer.11.output.LayerNorm.bias', 'bert.encoder.layer.11.output.LayerNorm.weight', 'bert.encoder.layer.11.output.dense.bias', 'bert.encoder.layer.11.output.dense.weight', 'bert.encoder.layer.2.attention.output.LayerNorm.bias', 'bert.encoder.layer.2.attention.output.LayerNorm.weight', 'bert.encoder.layer.2.attention.output.dense.bias', 'bert.encoder.layer.2.attention.output.dense.weight', 'bert.encoder.layer.2.attention.self.key.bias', 'bert.encoder.layer.2.attention.self.key.weight', 'bert.encoder.layer.2.attention.self.query.bias', 'bert.encoder.layer.2.attention.self.query.weight', 'bert.encoder.layer.2.attention.self.value.bias', 'bert.encoder.layer.2.attention.self.value.weight', 'bert.encoder.layer.2.intermediate.dense.bias', 'bert.encoder.layer.2.intermediate.dense.weight', 'bert.encoder.layer.2.output.LayerNorm.bias', 'bert.encoder.layer.2.output.LayerNorm.weight', 'bert.encoder.layer.2.output.dense.bias', 'bert.encoder.layer.2.output.dense.weight', 'bert.encoder.layer.3.attention.output.LayerNorm.bias', 'bert.encoder.layer.3.attention.output.LayerNorm.weight', 'bert.encoder.layer.3.attention.output.dense.bias', 'bert.encoder.layer.3.attention.output.dense.weight', 'bert.encoder.layer.3.attention.self.key.bias', 'bert.encoder.layer.3.attention.self.key.weight', 'bert.encoder.layer.3.attention.self.query.bias', 'bert.encoder.layer.3.attention.self.query.weight', 'bert.encoder.layer.3.attention.self.value.bias', 'bert.encoder.layer.3.attention.self.value.weight', 'bert.encoder.layer.3.intermediate.dense.bias', 'bert.encoder.layer.3.intermediate.dense.weight', 'bert.encoder.layer.3.output.LayerNorm.bias', 'bert.encoder.layer.3.output.LayerNorm.weight', 'bert.encoder.layer.3.output.dense.bias', 'bert.encoder.layer.3.output.dense.weight', 'bert.encoder.layer.4.attention.output.LayerNorm.bias', 'bert.encoder.layer.4.attention.output.LayerNorm.weight', 'bert.encoder.layer.4.attention.output.dense.bias', 'bert.encoder.layer.4.attention.output.dense.weight', 'bert.encoder.layer.4.attention.self.key.bias', 'bert.encoder.layer.4.attention.self.key.weight', 'bert.encoder.layer.4.attention.self.query.bias', 'bert.encoder.layer.4.attention.self.query.weight', 'bert.encoder.layer.4.attention.self.value.bias', 'bert.encoder.layer.4.attention.self.value.weight', 'bert.encoder.layer.4.intermediate.dense.bias', 'bert.encoder.layer.4.intermediate.dense.weight', 'bert.encoder.layer.4.output.LayerNorm.bias', 'bert.encoder.layer.4.output.LayerNorm.weight', 'bert.encoder.layer.4.output.dense.bias', 'bert.encoder.layer.4.output.dense.weight', 'bert.encoder.layer.5.attention.output.LayerNorm.bias', 'bert.encoder.layer.5.attention.output.LayerNorm.weight', 'bert.encoder.layer.5.attention.output.dense.bias', 'bert.encoder.layer.5.attention.output.dense.weight', 'bert.encoder.layer.5.attention.self.key.bias', 'bert.encoder.layer.5.attention.self.key.weight', 'bert.encoder.layer.5.attention.self.query.bias', 'bert.encoder.layer.5.attention.self.query.weight', 'bert.encoder.layer.5.attention.self.value.bias', 'bert.encoder.layer.5.attention.self.value.weight', 'bert.encoder.layer.5.intermediate.dense.bias', 'bert.encoder.layer.5.intermediate.dense.weight', 'bert.encoder.layer.5.output.LayerNorm.bias', 'bert.encoder.layer.5.output.LayerNorm.weight', 'bert.encoder.layer.5.output.dense.bias', 'bert.encoder.layer.5.output.dense.weight', 'bert.encoder.layer.6.attention.output.LayerNorm.bias', 'bert.encoder.layer.6.attention.output.LayerNorm.weight', 'bert.encoder.layer.6.attention.output.dense.bias', 'bert.encoder.layer.6.attention.output.dense.weight', 'bert.encoder.layer.6.attention.self.key.bias', 'bert.encoder.layer.6.attention.self.key.weight', 'bert.encoder.layer.6.attention.self.query.bias', 'bert.encoder.layer.6.attention.self.query.weight', 'bert.encoder.layer.6.attention.self.value.bias', 'bert.encoder.layer.6.attention.self.value.weight', 'bert.encoder.layer.6.intermediate.dense.bias', 'bert.encoder.layer.6.intermediate.dense.weight', 'bert.encoder.layer.6.output.LayerNorm.bias', 'bert.encoder.layer.6.output.LayerNorm.weight', 'bert.encoder.layer.6.output.dense.bias', 'bert.encoder.layer.6.output.dense.weight', 'bert.encoder.layer.7.attention.output.LayerNorm.bias', 'bert.encoder.layer.7.attention.output.LayerNorm.weight', 'bert.encoder.layer.7.attention.output.dense.bias', 'bert.encoder.layer.7.attention.output.dense.weight', 'bert.encoder.layer.7.attention.self.key.bias', 'bert.encoder.layer.7.attention.self.key.weight', 'bert.encoder.layer.7.attention.self.query.bias', 'bert.encoder.layer.7.attention.self.query.weight', 'bert.encoder.layer.7.attention.self.value.bias', 'bert.encoder.layer.7.attention.self.value.weight', 'bert.encoder.layer.7.intermediate.dense.bias', 'bert.encoder.layer.7.intermediate.dense.weight', 'bert.encoder.layer.7.output.LayerNorm.bias', 'bert.encoder.layer.7.output.LayerNorm.weight', 'bert.encoder.layer.7.output.dense.bias', 'bert.encoder.layer.7.output.dense.weight', 'bert.encoder.layer.8.attention.output.LayerNorm.bias', 'bert.encoder.layer.8.attention.output.LayerNorm.weight', 'bert.encoder.layer.8.attention.output.dense.bias', 'bert.encoder.layer.8.attention.output.dense.weight', 'bert.encoder.layer.8.attention.self.key.bias', 'bert.encoder.layer.8.attention.self.key.weight', 'bert.encoder.layer.8.attention.self.query.bias', 'bert.encoder.layer.8.attention.self.query.weight', 'bert.encoder.layer.8.attention.self.value.bias', 'bert.encoder.layer.8.attention.self.value.weight', 'bert.encoder.layer.8.intermediate.dense.bias', 'bert.encoder.layer.8.intermediate.dense.weight', 'bert.encoder.layer.8.output.LayerNorm.bias', 'bert.encoder.layer.8.output.LayerNorm.weight', 'bert.encoder.layer.8.output.dense.bias', 'bert.encoder.layer.8.output.dense.weight', 'bert.encoder.layer.9.attention.output.LayerNorm.bias', 'bert.encoder.layer.9.attention.output.LayerNorm.weight', 'bert.encoder.layer.9.attention.output.dense.bias', 'bert.encoder.layer.9.attention.output.dense.weight', 'bert.encoder.layer.9.attention.self.key.bias', 'bert.encoder.layer.9.attention.self.key.weight', 'bert.encoder.layer.9.attention.self.query.bias', 'bert.encoder.layer.9.attention.self.query.weight', 'bert.encoder.layer.9.attention.self.value.bias', 'bert.encoder.layer.9.attention.self.value.weight', 'bert.encoder.layer.9.intermediate.dense.bias', 'bert.encoder.layer.9.intermediate.dense.weight', 'bert.encoder.layer.9.output.LayerNorm.bias', 'bert.encoder.layer.9.output.LayerNorm.weight', 'bert.encoder.layer.9.output.dense.bias', 'bert.encoder.layer.9.output.dense.weight', 'bert.pooler.dense.bias', 'bert.pooler.dense.weight', 'classifier.bias', 'classifier.weight']\n",
      "You should probably TRAIN this model on a down-stream task to be able to use it for predictions and inference.\n"
     ]
    }
   ],
   "source": [
    "# Modelo BERT para clasificación de 5 clases\n",
    "model = BertForSequenceClassification.from_pretrained(\"PlanTL-GOB-ES/roberta-base-bne\", num_labels=5)\n"
   ]
  },
  {
   "cell_type": "markdown",
   "id": "dA521NxN9PIn",
   "metadata": {
    "id": "dA521NxN9PIn"
   },
   "source": [
    "Vamos a evaluar el accuracy como métrica de rendimiento"
   ]
  },
  {
   "cell_type": "code",
   "execution_count": null,
   "id": "agIBeA5d9Ppu",
   "metadata": {
    "colab": {
     "base_uri": "https://localhost:8080/",
     "height": 590,
     "referenced_widgets": [
      "c243626511564d899ffe54f8acca2798",
      "2e948e42ff6c4d62913cdd839e5aca8e",
      "90678c8bb55f4424ad207b3ea6dca1ec",
      "1f535d3883f0444b97224c5618bf19f8",
      "9aecf67aae1f4a7187a8aaae3d6e8b8b",
      "651c27e8ab834b808128d19e7a9a31fb",
      "e3aea4c768fe4f908e305cfc9d43a12b",
      "3a474ada56c546cf891b8a48d798bf28",
      "57c76d6c7224416097bc492cda3cba5b",
      "63c41ef1200f4ebcb4bb0dd70ca78229",
      "575bba639198412b8525be6f4beb42ae"
     ]
    },
    "id": "agIBeA5d9Ppu",
    "outputId": "9ddc57c6-978e-47ce-e34a-c227cbb49e3e"
   },
   "outputs": [
    {
     "data": {
      "application/vnd.jupyter.widget-view+json": {
       "model_id": "c243626511564d899ffe54f8acca2798",
       "version_major": 2,
       "version_minor": 0
      },
      "text/plain": [
       "Downloading builder script:   0%|          | 0.00/4.20k [00:00<?, ?B/s]"
      ]
     },
     "metadata": {},
     "output_type": "display_data"
    },
    {
     "name": "stdout",
     "output_type": "stream",
     "text": [
      "EvaluationModule(name: \"accuracy\", module_type: \"metric\", features: {'predictions': Value(dtype='int32', id=None), 'references': Value(dtype='int32', id=None)}, usage: \"\"\"\n",
      "Args:\n",
      "    predictions (`list` of `int`): Predicted labels.\n",
      "    references (`list` of `int`): Ground truth labels.\n",
      "    normalize (`boolean`): If set to False, returns the number of correctly classified samples. Otherwise, returns the fraction of correctly classified samples. Defaults to True.\n",
      "    sample_weight (`list` of `float`): Sample weights Defaults to None.\n",
      "\n",
      "Returns:\n",
      "    accuracy (`float` or `int`): Accuracy score. Minimum possible value is 0. Maximum possible value is 1.0, or the number of examples input, if `normalize` is set to `True`.. A higher score means higher accuracy.\n",
      "\n",
      "Examples:\n",
      "\n",
      "    Example 1-A simple example\n",
      "        >>> accuracy_metric = evaluate.load(\"accuracy\")\n",
      "        >>> results = accuracy_metric.compute(references=[0, 1, 2, 0, 1, 2], predictions=[0, 1, 1, 2, 1, 0])\n",
      "        >>> print(results)\n",
      "        {'accuracy': 0.5}\n",
      "\n",
      "    Example 2-The same as Example 1, except with `normalize` set to `False`.\n",
      "        >>> accuracy_metric = evaluate.load(\"accuracy\")\n",
      "        >>> results = accuracy_metric.compute(references=[0, 1, 2, 0, 1, 2], predictions=[0, 1, 1, 2, 1, 0], normalize=False)\n",
      "        >>> print(results)\n",
      "        {'accuracy': 3.0}\n",
      "\n",
      "    Example 3-The same as Example 1, except with `sample_weight` set.\n",
      "        >>> accuracy_metric = evaluate.load(\"accuracy\")\n",
      "        >>> results = accuracy_metric.compute(references=[0, 1, 2, 0, 1, 2], predictions=[0, 1, 1, 2, 1, 0], sample_weight=[0.5, 2, 0.7, 0.5, 9, 0.4])\n",
      "        >>> print(results)\n",
      "        {'accuracy': 0.8778625954198473}\n",
      "\"\"\", stored examples: 0)\n"
     ]
    }
   ],
   "source": [
    "metric = evaluate.load(\"accuracy\")\n",
    "print(metric)"
   ]
  },
  {
   "cell_type": "code",
   "execution_count": null,
   "id": "2FRIXac39boF",
   "metadata": {
    "id": "2FRIXac39boF"
   },
   "outputs": [],
   "source": [
    "def compute_metrics(eval_pred):\n",
    "    predictions, labels = eval_pred\n",
    "    predictions = np.argmax(predictions, axis=1)\n",
    "\n",
    "    return metric.compute(predictions=predictions, references=labels)"
   ]
  },
  {
   "cell_type": "markdown",
   "id": "0vC6cJURpAkG",
   "metadata": {
    "id": "0vC6cJURpAkG"
   },
   "source": [
    "## Hugging Face Hub 🤗"
   ]
  },
  {
   "cell_type": "markdown",
   "id": "2ntmCzb8pJ-m",
   "metadata": {
    "id": "2ntmCzb8pJ-m"
   },
   "source": [
    "El modelo entrenado lo vamos a subir a Hugging Face Hub así lo podemos compartir con el mundo 😎"
   ]
  },
  {
   "cell_type": "markdown",
   "id": "O7FsKmCIpF6m",
   "metadata": {
    "id": "O7FsKmCIpF6m"
   },
   "source": [
    "Importante: La nueva credencial que vamos a crear debe tener permisos de escritura (write)."
   ]
  },
  {
   "cell_type": "code",
   "execution_count": null,
   "id": "HrTZCn0LpCns",
   "metadata": {
    "colab": {
     "base_uri": "https://localhost:8080/"
    },
    "id": "HrTZCn0LpCns",
    "outputId": "2ede4faa-eaaf-446b-d1ba-6ff288ed1e54"
   },
   "outputs": [
    {
     "name": "stdout",
     "output_type": "stream",
     "text": [
      "\n",
      "    _|    _|  _|    _|    _|_|_|    _|_|_|  _|_|_|  _|      _|    _|_|_|      _|_|_|_|    _|_|      _|_|_|  _|_|_|_|\n",
      "    _|    _|  _|    _|  _|        _|          _|    _|_|    _|  _|            _|        _|    _|  _|        _|\n",
      "    _|_|_|_|  _|    _|  _|  _|_|  _|  _|_|    _|    _|  _|  _|  _|  _|_|      _|_|_|    _|_|_|_|  _|        _|_|_|\n",
      "    _|    _|  _|    _|  _|    _|  _|    _|    _|    _|    _|_|  _|    _|      _|        _|    _|  _|        _|\n",
      "    _|    _|    _|_|      _|_|_|    _|_|_|  _|_|_|  _|      _|    _|_|_|      _|        _|    _|    _|_|_|  _|_|_|_|\n",
      "\n",
      "    To log in, `huggingface_hub` requires a token generated from https://huggingface.co/settings/tokens .\n",
      "Enter your token (input will not be visible): \n",
      "Add token as git credential? (Y/n) n\n",
      "Token is valid (permission: write).\n",
      "The token `General` has been saved to /root/.cache/huggingface/stored_tokens\n",
      "Your token has been saved to /root/.cache/huggingface/token\n",
      "Login successful.\n",
      "The current active token is: `General`\n"
     ]
    }
   ],
   "source": [
    "!huggingface-cli login"
   ]
  },
  {
   "cell_type": "code",
   "execution_count": null,
   "id": "i0Juz06SpCqk",
   "metadata": {
    "id": "i0Juz06SpCqk"
   },
   "outputs": [],
   "source": [
    "!git config --global credential.helper store"
   ]
  },
  {
   "cell_type": "markdown",
   "id": "VrEcQ2Ets6oF",
   "metadata": {
    "id": "VrEcQ2Ets6oF"
   },
   "source": [
    "\n"
   ]
  },
  {
   "cell_type": "markdown",
   "id": "Ft8Jg8L4paIT",
   "metadata": {
    "id": "Ft8Jg8L4paIT"
   },
   "source": [
    "## Entrenamiento 💪"
   ]
  },
  {
   "cell_type": "code",
   "execution_count": null,
   "id": "rA92dGa5pCts",
   "metadata": {
    "id": "rA92dGa5pCts"
   },
   "outputs": [],
   "source": [
    "model_name = model_checkpoint.split(\"/\")[-1]"
   ]
  },
  {
   "cell_type": "code",
   "execution_count": null,
   "id": "ixe7B28wpdho",
   "metadata": {
    "colab": {
     "base_uri": "https://localhost:8080/"
    },
    "id": "ixe7B28wpdho",
    "outputId": "a3adffbf-a1f0-4891-f004-1b1e35ea4269"
   },
   "outputs": [
    {
     "name": "stdout",
     "output_type": "stream",
     "text": [
      "roberta-base-bne\n"
     ]
    }
   ],
   "source": [
    "print(model_name)"
   ]
  },
  {
   "cell_type": "code",
   "execution_count": null,
   "id": "8VYuGl4lpdkc",
   "metadata": {
    "id": "8VYuGl4lpdkc"
   },
   "outputs": [],
   "source": [
    "batch_size = 8\n",
    "num_train_epochs=2\n",
    "num_train_samples = len(encoded_dataset[\"train\"])\n",
    "train_dataset = encoded_dataset[\"train\"].shuffle(seed=42).select(range(num_train_samples))\n",
    "logging_steps = len(train_dataset) // (2 * batch_size * num_train_epochs)"
   ]
  },
  {
   "cell_type": "code",
   "execution_count": null,
   "id": "cqG4wQGQpnlA",
   "metadata": {
    "id": "cqG4wQGQpnlA"
   },
   "outputs": [],
   "source": [
    "training_args = TrainingArguments(\n",
    "    output_dir=\"results\",\n",
    "    num_train_epochs=num_train_epochs,\n",
    "    learning_rate=2e-5,\n",
    "    per_device_train_batch_size=batch_size,\n",
    "    per_device_eval_batch_size=batch_size,\n",
    "    load_best_model_at_end=True,\n",
    "    metric_for_best_model=\"accuracy\",\n",
    "    weight_decay=0.01,\n",
    "    eval_strategy=\"epoch\",\n",
    "    save_strategy=\"epoch\",\n",
    "    logging_steps=logging_steps,\n",
    "    push_to_hub=True,\n",
    "    hub_model_id=f\"{model_name}-resenas-project-nlp-con-transformers\"\n",
    ")"
   ]
  },
  {
   "cell_type": "code",
   "execution_count": null,
   "id": "cQNFkWYbpdnI",
   "metadata": {
    "id": "cQNFkWYbpdnI"
   },
   "outputs": [],
   "source": [
    "trainer = Trainer(\n",
    "    model=model,\n",
    "    args=training_args,\n",
    "    compute_metrics=compute_metrics,\n",
    "    train_dataset=train_dataset,\n",
    "    eval_dataset=encoded_dataset[\"validation\"],\n",
    "    processing_class=tokenizer,\n",
    ")"
   ]
  },
  {
   "cell_type": "markdown",
   "id": "WljZpr3_pszv",
   "metadata": {
    "id": "WljZpr3_pszv"
   },
   "source": [
    "Para este paso es necesario crearse una cuenta gratuita en Weights & Biases, porque el entrenamiento y las métricas se harán ahí."
   ]
  },
  {
   "cell_type": "code",
   "execution_count": null,
   "id": "9J5yCy1jpdp0",
   "metadata": {
    "colab": {
     "base_uri": "https://localhost:8080/",
     "height": 470
    },
    "id": "9J5yCy1jpdp0",
    "outputId": "18deedbe-d0db-47ae-cf4c-ea8547e055bb"
   },
   "outputs": [
    {
     "name": "stderr",
     "output_type": "stream",
     "text": [
      "\u001b[34m\u001b[1mwandb\u001b[0m: \u001b[33mWARNING\u001b[0m The `run_name` is currently set to the same value as `TrainingArguments.output_dir`. If this was not intended, please specify a different run name by setting the `TrainingArguments.run_name` parameter.\n"
     ]
    },
    {
     "data": {
      "application/javascript": [
       "\n",
       "        window._wandbApiKey = new Promise((resolve, reject) => {\n",
       "            function loadScript(url) {\n",
       "            return new Promise(function(resolve, reject) {\n",
       "                let newScript = document.createElement(\"script\");\n",
       "                newScript.onerror = reject;\n",
       "                newScript.onload = resolve;\n",
       "                document.body.appendChild(newScript);\n",
       "                newScript.src = url;\n",
       "            });\n",
       "            }\n",
       "            loadScript(\"https://cdn.jsdelivr.net/npm/postmate/build/postmate.min.js\").then(() => {\n",
       "            const iframe = document.createElement('iframe')\n",
       "            iframe.style.cssText = \"width:0;height:0;border:none\"\n",
       "            document.body.appendChild(iframe)\n",
       "            const handshake = new Postmate({\n",
       "                container: iframe,\n",
       "                url: 'https://wandb.ai/authorize'\n",
       "            });\n",
       "            const timeout = setTimeout(() => reject(\"Couldn't auto authenticate\"), 5000)\n",
       "            handshake.then(function(child) {\n",
       "                child.on('authorize', data => {\n",
       "                    clearTimeout(timeout)\n",
       "                    resolve(data)\n",
       "                });\n",
       "            });\n",
       "            })\n",
       "        });\n",
       "    "
      ],
      "text/plain": [
       "<IPython.core.display.Javascript object>"
      ]
     },
     "metadata": {},
     "output_type": "display_data"
    },
    {
     "name": "stderr",
     "output_type": "stream",
     "text": [
      "\u001b[34m\u001b[1mwandb\u001b[0m: Logging into wandb.ai. (Learn how to deploy a W&B server locally: https://wandb.me/wandb-server)\n",
      "\u001b[34m\u001b[1mwandb\u001b[0m: You can find your API key in your browser here: https://wandb.ai/authorize?ref=models\n",
      "wandb: Paste an API key from your profile and hit enter:"
     ]
    },
    {
     "name": "stdout",
     "output_type": "stream",
     "text": [
      " ··········\n"
     ]
    },
    {
     "name": "stderr",
     "output_type": "stream",
     "text": [
      "\u001b[34m\u001b[1mwandb\u001b[0m: \u001b[33mWARNING\u001b[0m If you're specifying your api key in code, ensure this code is not shared publicly.\n",
      "\u001b[34m\u001b[1mwandb\u001b[0m: \u001b[33mWARNING\u001b[0m Consider setting the WANDB_API_KEY environment variable, or running `wandb login` from the command line.\n",
      "\u001b[34m\u001b[1mwandb\u001b[0m: No netrc file found, creating one.\n",
      "\u001b[34m\u001b[1mwandb\u001b[0m: Appending key for api.wandb.ai to your netrc file: /root/.netrc\n",
      "\u001b[34m\u001b[1mwandb\u001b[0m: Currently logged in as: \u001b[33msandrarairan\u001b[0m (\u001b[33msandrarairan-sr\u001b[0m) to \u001b[32mhttps://api.wandb.ai\u001b[0m. Use \u001b[1m`wandb login --relogin`\u001b[0m to force relogin\n"
     ]
    },
    {
     "data": {
      "text/html": [
       "Tracking run with wandb version 0.19.11"
      ],
      "text/plain": [
       "<IPython.core.display.HTML object>"
      ]
     },
     "metadata": {},
     "output_type": "display_data"
    },
    {
     "data": {
      "text/html": [
       "Run data is saved locally in <code>/content/wandb/run-20250603_210402-2zfa9o6z</code>"
      ],
      "text/plain": [
       "<IPython.core.display.HTML object>"
      ]
     },
     "metadata": {},
     "output_type": "display_data"
    },
    {
     "data": {
      "text/html": [
       "Syncing run <strong><a href='https://wandb.ai/sandrarairan-sr/huggingface/runs/2zfa9o6z' target=\"_blank\">results</a></strong> to <a href='https://wandb.ai/sandrarairan-sr/huggingface' target=\"_blank\">Weights & Biases</a> (<a href='https://wandb.me/developer-guide' target=\"_blank\">docs</a>)<br>"
      ],
      "text/plain": [
       "<IPython.core.display.HTML object>"
      ]
     },
     "metadata": {},
     "output_type": "display_data"
    },
    {
     "data": {
      "text/html": [
       " View project at <a href='https://wandb.ai/sandrarairan-sr/huggingface' target=\"_blank\">https://wandb.ai/sandrarairan-sr/huggingface</a>"
      ],
      "text/plain": [
       "<IPython.core.display.HTML object>"
      ]
     },
     "metadata": {},
     "output_type": "display_data"
    },
    {
     "data": {
      "text/html": [
       " View run at <a href='https://wandb.ai/sandrarairan-sr/huggingface/runs/2zfa9o6z' target=\"_blank\">https://wandb.ai/sandrarairan-sr/huggingface/runs/2zfa9o6z</a>"
      ],
      "text/plain": [
       "<IPython.core.display.HTML object>"
      ]
     },
     "metadata": {},
     "output_type": "display_data"
    },
    {
     "data": {
      "text/html": [
       "\n",
       "    <div>\n",
       "      \n",
       "      <progress value='25726' max='25726' style='width:300px; height:20px; vertical-align: middle;'></progress>\n",
       "      [25726/25726 36:45, Epoch 2/2]\n",
       "    </div>\n",
       "    <table border=\"1\" class=\"dataframe\">\n",
       "  <thead>\n",
       " <tr style=\"text-align: left;\">\n",
       "      <th>Epoch</th>\n",
       "      <th>Training Loss</th>\n",
       "      <th>Validation Loss</th>\n",
       "      <th>Accuracy</th>\n",
       "    </tr>\n",
       "  </thead>\n",
       "  <tbody>\n",
       "    <tr>\n",
       "      <td>1</td>\n",
       "      <td>0.000000</td>\n",
       "      <td>0.000000</td>\n",
       "      <td>1.000000</td>\n",
       "    </tr>\n",
       "    <tr>\n",
       "      <td>2</td>\n",
       "      <td>0.000000</td>\n",
       "      <td>0.000000</td>\n",
       "      <td>1.000000</td>\n",
       "    </tr>\n",
       "  </tbody>\n",
       "</table><p>"
      ],
      "text/plain": [
       "<IPython.core.display.HTML object>"
      ]
     },
     "metadata": {},
     "output_type": "display_data"
    },
    {
     "data": {
      "text/plain": [
       "TrainOutput(global_step=25726, training_loss=0.001415070242137549, metrics={'train_runtime': 2220.5048, 'train_samples_per_second': 92.682, 'train_steps_per_second': 11.586, 'total_flos': 1761847304380896.0, 'train_loss': 0.001415070242137549, 'epoch': 2.0})"
      ]
     },
     "execution_count": 20,
     "metadata": {},
     "output_type": "execute_result"
    }
   ],
   "source": [
    "trainer.train()"
   ]
  },
  {
   "cell_type": "markdown",
   "id": "sWofLQiyvuro",
   "metadata": {
    "id": "sWofLQiyvuro"
   },
   "source": [
    "## Guardar el modelo 💾"
   ]
  },
  {
   "cell_type": "markdown",
   "id": "fRrcWlHXp3Oj",
   "metadata": {
    "id": "fRrcWlHXp3Oj"
   },
   "source": [
    "Para eso vamos a hacer un push a Hugging Face Hub"
   ]
  },
  {
   "cell_type": "code",
   "execution_count": null,
   "id": "vmJlW3dZpv-q",
   "metadata": {
    "colab": {
     "base_uri": "https://localhost:8080/",
     "height": 136,
     "referenced_widgets": [
      "e4e3c26128c94972b3d93c2e757a1dc1",
      "5e1cffee45694fb4b2ce35df508c8b8e",
      "ffdd1f1a717742ee851434c3126ccd0e",
      "6ce605658b8f4fac85cba3428d104bf1",
      "c95019a8ef98404d8167bdcfdc54860d",
      "cef8f0b139ef495cbe6a42a73d01f3b5",
      "773e4f4a4fb94390886e28079681b09c",
      "ae1748998ae94eb0a53245e3ef3acb2f",
      "43fff058976f4e90966e77de1826df58",
      "e011f80610c5422ab34eea4266c3068f",
      "7411aa997d4b4d709508c554123d67c5"
     ]
    },
    "id": "vmJlW3dZpv-q",
    "outputId": "dd6cb08d-761e-45b8-ba18-5a13f244cd6f"
   },
   "outputs": [
    {
     "data": {
      "application/vnd.jupyter.widget-view+json": {
       "model_id": "e4e3c26128c94972b3d93c2e757a1dc1",
       "version_major": 2,
       "version_minor": 0
      },
      "text/plain": [
       "events.out.tfevents.1748984629.3e5f35561eb2.767.0:   0%|          | 0.00/7.92k [00:00<?, ?B/s]"
      ]
     },
     "metadata": {},
     "output_type": "display_data"
    },
    {
     "data": {
      "application/vnd.google.colaboratory.intrinsic+json": {
       "type": "string"
      },
      "text/plain": [
       "CommitInfo(commit_url='https://huggingface.co/sanrapi/roberta-base-bne-resenas-project-nlp-con-transformers/commit/5bd1cf41e4098d0badecc4999cfdb749a4706910', commit_message='End of training', commit_description='', oid='5bd1cf41e4098d0badecc4999cfdb749a4706910', pr_url=None, repo_url=RepoUrl('https://huggingface.co/sanrapi/roberta-base-bne-resenas-project-nlp-con-transformers', endpoint='https://huggingface.co', repo_type='model', repo_id='sanrapi/roberta-base-bne-resenas-project-nlp-con-transformers'), pr_revision=None, pr_num=None)"
      ]
     },
     "execution_count": 21,
     "metadata": {},
     "output_type": "execute_result"
    }
   ],
   "source": [
    "trainer.push_to_hub()"
   ]
  },
  {
   "cell_type": "markdown",
   "id": "PkYN7MTMp_vP",
   "metadata": {
    "id": "PkYN7MTMp_vP"
   },
   "source": [
    "##  Hacer Predicciones en Producción 🤙"
   ]
  },
  {
   "cell_type": "code",
   "execution_count": null,
   "id": "g3px1-dop0vp",
   "metadata": {
    "id": "g3px1-dop0vp"
   },
   "outputs": [],
   "source": [
    "from transformers import pipeline"
   ]
  },
  {
   "cell_type": "markdown",
   "id": "3nyaQCQ5qFK3",
   "metadata": {
    "id": "3nyaQCQ5qFK3"
   },
   "source": [
    "Cargar el modelo una vez (al inicio de la aplicación)"
   ]
  },
  {
   "cell_type": "code",
   "execution_count": null,
   "id": "5NObIEX2qFCO",
   "metadata": {
    "colab": {
     "base_uri": "https://localhost:8080/",
     "height": 258,
     "referenced_widgets": [
      "4d7b7dd80411403292f7044769978ffe",
      "36120c8967da4b2f9a10735967a6bf5c",
      "3a98af4f064e4851a13a7af22448cd65",
      "b39130370c0c40e98341c13ff30b7dad",
      "e94137a01e2147019a54158f06315180",
      "b7acbaede4e04b6bbff3ed3e368930a5",
      "6c3c2fa98eb445edb907f1d0b17fa41e",
      "9ea379e0abc64b49a4b61f34c466dbca",
      "8035edc3296d481987a970b0111eb14d",
      "25c696f37ba6429e99fd72175f96a679",
      "d577be5f235749c3a099da6459a43fa0",
      "de9fd1359df740109d7c9d69384d6b0e",
      "ff01a9f5c2c0430789844782ed9a2209",
      "312be8e8b02d4d9291c81d1492b35063",
      "bbaaf5bd94b84c53aae4bf02cd72a9ce",
      "2ddae3d666374160b0889d4431ba8925",
      "d5daa2a9bf8e478b8f65c822540ac531",
      "89db9c8ab08d49c49130dbf78dd85e3a",
      "723a44627e204226835b1dc2c364fd59",
      "85ecde340c354533a19c260e4fa439d2",
      "cfc380aa5da341c69987c19ccea4395e",
      "19e19203e70543eaac95371ce383d46c",
      "b79a2508efd8402395f3f1df619b1629",
      "175044f13d87487ba93465e13b331670",
      "1db5b315b8714f5aa95fa0e2aebbb2b4",
      "f7e0fea563bd4a1c8d0ba3d7fc753969",
      "6481e4f05a204292ad74fb0e2ad04ced",
      "81ff22990a704e2abad4c6a12d52cd3e",
      "83c9d49592ce479ea28b2527cf17867c",
      "1d5a4adc4c804909b62fe9204578593f",
      "36506065672341b4a8741b948a3e82ab",
      "03e3d6f879d2402d9967c21717dc986f",
      "2508498a125e445cb80220a1671dee80",
      "845164b1e4684f6db7c0cf5066197171",
      "cde9176653654519963698344eedab2c",
      "9aaec99561be422d9fd90e8a4c414085",
      "7be7322aebde42b5b982de162ebae736",
      "4d757fb5b6114ef68799a67252a89c6e",
      "2260af84c8914b3fa54b1f71b2eb0d29",
      "5e4ff6a175884ee9ba02f3f941abd0b5",
      "1734c17b1e6a46c4b558cfc63ffd2214",
      "7096e8dd28b642a6a3128a6bee633858",
      "12b406ffe59745978f82c719f9735b02",
      "a336459fe80a407d8181759fd0897832",
      "ef434aaf3838474094d7cf15346abe4b",
      "cf496321465f4e3db9087092bd1c2a65",
      "84d2aa5754fc4ea7a972bae6935746cf",
      "054b2d267aba4283b7f29fcbafaa1989",
      "67229b54928c4d82b4843cb93046b9b2",
      "b6310d9ca87f4d99989b2ba683e81642",
      "eb231e110b214033974177e31ef7e81f",
      "5e42a5446dcf4355aa3edd94b8ff9b0a",
      "d7472e085ff24fc2b9e3c163f7dda256",
      "14f8d6e3561a4cb3889895de6a5b23c3",
      "633d44670f8241d39ea73b794c22fea4",
      "688a1a5c141442d3ac90b1c371a6e781",
      "108162edf4f04ac09c21c0fa2bc26fea",
      "50f7e1d681d24416abd8e3882848c2d3",
      "f9b4448df03b486898d58467d15a091e",
      "9357b8c21233438498e028a2daa732bf",
      "7649a7d321cf44668fa286a3a3a95bee",
      "2ef25b74c0144d358da664b22527cb0e",
      "17657b9d6fc341d1a952749fed49c7bd",
      "898b0a9bf773402aad089f4c06ee21c8",
      "3c8fcb93ef09493cbb2c039094f2b4ea",
      "e9bb53c2de974c89b798404a5e9eae95",
      "d1a1dd9df4b84024bb52129f43c4a36c",
      "6e1aa8a08a46461585f09b2013cfe65b",
      "7a093dc55878484c9b78953aafddd99d",
      "a7684fbf35034ae68ec1ff03b09f8215",
      "796f3624a001440695d221f4a9dbc3dc",
      "ec7734c41a9e4753b8e08294742c14e2",
      "328cda2a3974410293452ffe45b3c14f",
      "f09ad1eb7e7e4c63b6a1140ef504da10",
      "176553f3ab4d4602b9507f5a63116f48",
      "e4c5a2a5f3c240ab9325c7e1532c4de2",
      "6f18d893a7004df789edce7396bcba93"
     ]
    },
    "id": "5NObIEX2qFCO",
    "outputId": "337faca1-feb2-40e6-843e-ab5ce454d510"
   },
   "outputs": [
    {
     "data": {
      "application/vnd.jupyter.widget-view+json": {
       "model_id": "4d7b7dd80411403292f7044769978ffe",
       "version_major": 2,
       "version_minor": 0
      },
      "text/plain": [
       "config.json:   0%|          | 0.00/959 [00:00<?, ?B/s]"
      ]
     },
     "metadata": {},
     "output_type": "display_data"
    },
    {
     "data": {
      "application/vnd.jupyter.widget-view+json": {
       "model_id": "de9fd1359df740109d7c9d69384d6b0e",
       "version_major": 2,
       "version_minor": 0
      },
      "text/plain": [
       "model.safetensors:   0%|          | 0.00/499M [00:00<?, ?B/s]"
      ]
     },
     "metadata": {},
     "output_type": "display_data"
    },
    {
     "data": {
      "application/vnd.jupyter.widget-view+json": {
       "model_id": "b79a2508efd8402395f3f1df619b1629",
       "version_major": 2,
       "version_minor": 0
      },
      "text/plain": [
       "tokenizer_config.json:   0%|          | 0.00/1.26k [00:00<?, ?B/s]"
      ]
     },
     "metadata": {},
     "output_type": "display_data"
    },
    {
     "data": {
      "application/vnd.jupyter.widget-view+json": {
       "model_id": "845164b1e4684f6db7c0cf5066197171",
       "version_major": 2,
       "version_minor": 0
      },
      "text/plain": [
       "vocab.json:   0%|          | 0.00/851k [00:00<?, ?B/s]"
      ]
     },
     "metadata": {},
     "output_type": "display_data"
    },
    {
     "data": {
      "application/vnd.jupyter.widget-view+json": {
       "model_id": "ef434aaf3838474094d7cf15346abe4b",
       "version_major": 2,
       "version_minor": 0
      },
      "text/plain": [
       "merges.txt:   0%|          | 0.00/509k [00:00<?, ?B/s]"
      ]
     },
     "metadata": {},
     "output_type": "display_data"
    },
    {
     "data": {
      "application/vnd.jupyter.widget-view+json": {
       "model_id": "688a1a5c141442d3ac90b1c371a6e781",
       "version_major": 2,
       "version_minor": 0
      },
      "text/plain": [
       "tokenizer.json:   0%|          | 0.00/3.66M [00:00<?, ?B/s]"
      ]
     },
     "metadata": {},
     "output_type": "display_data"
    },
    {
     "data": {
      "application/vnd.jupyter.widget-view+json": {
       "model_id": "d1a1dd9df4b84024bb52129f43c4a36c",
       "version_major": 2,
       "version_minor": 0
      },
      "text/plain": [
       "special_tokens_map.json:   0%|          | 0.00/957 [00:00<?, ?B/s]"
      ]
     },
     "metadata": {},
     "output_type": "display_data"
    },
    {
     "name": "stderr",
     "output_type": "stream",
     "text": [
      "Device set to use cuda:0\n"
     ]
    }
   ],
   "source": [
    "model_checkpoint = \"sanrapi/roberta-base-bne-resenas-project-nlp-con-transformers\"\n",
    "pipe = pipeline(\"sentiment-analysis\", model=model_checkpoint)"
   ]
  },
  {
   "cell_type": "markdown",
   "id": "nraQQG8kwfzY",
   "metadata": {
    "id": "nraQQG8kwfzY"
   },
   "source": [
    "## Ejemplos de uso"
   ]
  },
  {
   "cell_type": "code",
   "execution_count": null,
   "id": "LJdUvE97p0ya",
   "metadata": {
    "colab": {
     "base_uri": "https://localhost:8080/"
    },
    "id": "LJdUvE97p0ya",
    "outputId": "fe022922-e642-4947-ff3c-37eceec8bffb"
   },
   "outputs": [
    {
     "data": {
      "text/plain": [
       "[{'label': 'LABEL_3', 'score': 0.9999769926071167}]"
      ]
     },
     "execution_count": 24,
     "metadata": {},
     "output_type": "execute_result"
    }
   ],
   "source": [
    "pipe(\"desagradable paseo.La piscina muy sucia!!!\")"
   ]
  },
  {
   "cell_type": "code",
   "execution_count": null,
   "id": "zD0PiZVjwP4O",
   "metadata": {
    "colab": {
     "base_uri": "https://localhost:8080/"
    },
    "id": "zD0PiZVjwP4O",
    "outputId": "9292b8f2-d1ea-421f-b259-ea541aec45ea"
   },
   "outputs": [
    {
     "data": {
      "text/plain": [
       "[{'label': 'LABEL_1', 'score': 0.9748082160949707}]"
      ]
     },
     "execution_count": 26,
     "metadata": {},
     "output_type": "execute_result"
    }
   ],
   "source": [
    "pipe(\"la peor compra de mi vida!!! no recomiendo!\")"
   ]
  }
 ],
 "metadata": {
  "accelerator": "GPU",
  "colab": {
   "gpuType": "T4",
   "provenance": []
  },
  "kernelspec": {
   "display_name": "Python 3",
   "name": "python3"
  },
  "language_info": {
   "name": "python"
  }
 },
 "nbformat": 4,
 "nbformat_minor": 5
}
